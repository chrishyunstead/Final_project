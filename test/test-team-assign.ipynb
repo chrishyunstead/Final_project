{
 "cells": [
  {
   "cell_type": "code",
   "execution_count": 3,
   "metadata": {},
   "source": [
    "from sklearn.cluster import KMeans\n",
    "import cv2\n",
    "from glob import glob\n",
    "import numpy as np\n",
    "import matplotlib.pyplot as plt"
   ],
   "outputs": []
  },
  {
   "cell_type": "code",
   "execution_count": 2,
   "metadata": {},
   "source": [
    "image_list=[]\n",
    "image_path_list=glob('img/track*')\n",
    "for image_path in image_path_list:\n",
    "    image=cv2.cvtColor(cv2.imread(image_path),cv2.COLOR_BGR2RGB)\n",
    "    image_list.append(image)"
   ],
   "outputs": []
  },
  {
   "cell_type": "code",
   "execution_count": 8,
   "metadata": {},
   "source": [
    "image_list[0].shape"
   ],
   "outputs": []
  },
  {
   "cell_type": "code",
   "execution_count": 25,
   "metadata": {},
   "source": [
    "uniform_color_list=[]\n",
    "for image in image_list:\n",
    "    image_lab=cv2.cvtColor(image,cv2.COLOR_RGB2LAB)\n",
    "    image_lab_top=image_lab[int(image_lab.shape[0]*(40/100)):int(image_lab.shape[0]*(50/100)),\n",
    "                            int(image_lab.shape[1]*(25/100)):int(image_lab.shape[1]*(75/100))]\n",
    "    kmeans_1=KMeans(n_clusters=2,init='k-means++',n_init=20,random_state=980219)\n",
    "    kmeans_1.fit(image_lab_top.reshape(-1,3))\n",
    "    clustered_img=kmeans_1.labels_.reshape(image_lab_top.shape[0],image_lab_top.shape[1])\n",
    "    clusters=kmeans_1.labels_.tolist()\n",
    "    uniform_cluster=max(clusters,key=clusters.count)\n",
    "    uniform_color_lab=kmeans_1.cluster_centers_[uniform_cluster]\n",
    "    uniform_color_rgb=[int(i) for i in cv2.cvtColor(np.array([[[i for i in uniform_color_lab]]],dtype=np.uint8),cv2.COLOR_Lab2RGB).tolist()[0][0]]\n",
    "    uniform_color_list.append(uniform_color_lab)\n",
    "    print('--------------------------------------------------------')\n",
    "    print(uniform_color_rgb)\n",
    "    fig=plt.figure()\n",
    "    ax1=fig.add_subplot(1,3,1)\n",
    "    ax2=fig.add_subplot(1,3,2)\n",
    "    ax3=fig.add_subplot(1,3,3)\n",
    "    ax1.set_title('Original Image')\n",
    "    ax1.imshow(image[int(image.shape[0]*(40/100)):int(image.shape[0]*(50/100)),\n",
    "                     int(image.shape[1]*(25/100)):int(image.shape[1]*(75/100))])\n",
    "    ax2.set_title('HSV Image')\n",
    "    ax2.imshow(image_lab_top)\n",
    "    ax3.set_title('Clustered Image')\n",
    "    ax3.imshow(clustered_img)\n",
    "    plt.show()"
   ],
   "outputs": []
  },
  {
   "cell_type": "code",
   "execution_count": 26,
   "metadata": {},
   "source": [
    "kmeans_2=KMeans(n_clusters=2,init='k-means++',n_init=20,random_state=1030419)\n",
    "kmeans_2.fit(uniform_color_list)\n",
    "player_team_prediction={}\n",
    "for idx,color in enumerate(uniform_color_list):\n",
    "    team_id=kmeans_2.predict(np.array(color).reshape(1,-1))[0]\n",
    "    track_id=idx+1\n",
    "    player_team_prediction[track_id]={\n",
    "        'team-id':team_id,\n",
    "        'team-color':[int(i) for i in cv2.cvtColor(np.array([[[i for i in kmeans_2.cluster_centers_[team_id]]]],dtype=np.uint8),cv2.COLOR_Lab2RGB).tolist()[0][0]]\n",
    "    }"
   ],
   "outputs": []
  },
  {
   "cell_type": "code",
   "execution_count": 27,
   "metadata": {},
   "source": [
    "player_team_prediction"
   ],
   "outputs": []
  },
  {
   "cell_type": "code",
   "execution_count": 30,
   "metadata": {},
   "source": [
    "import pickle"
   ],
   "outputs": []
  },
  {
   "cell_type": "code",
   "execution_count": 33,
   "metadata": {},
   "source": [
    "with open('../track-stub/tracks-left-v8m-4(TA).pkl','rb') as siu:\n",
    "    tracks=pickle.load(siu)"
   ],
   "outputs": []
  },
  {
   "cell_type": "code",
   "execution_count": 34,
   "metadata": {},
   "source": [
    "tracks['players'][0]"
   ],
   "outputs": []
  }
 ],
 "metadata": {
  "kernelspec": {
   "display_name": "yolo_env",
   "language": "python",
   "name": "python3"
  },
  "language_info": {
   "codemirror_mode": {
    "name": "ipython",
    "version": 3
   },
   "file_extension": ".py",
   "mimetype": "text/x-python",
   "name": "python",
   "nbconvert_exporter": "python",
   "pygments_lexer": "ipython3",
   "version": "3.11.8"
  }
 },
 "nbformat": 4,
 "nbformat_minor": 2
}
