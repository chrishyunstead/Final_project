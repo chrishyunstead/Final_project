{
 "cells": [
  {
   "cell_type": "code",
   "execution_count": 3,
   "metadata": {},
   "source": [
    "import cv2\n",
    "from glob import glob\n",
    "import matplotlib.pyplot as plt\n",
    "import pickle\n",
    "import sys\n",
    "sys.path.append('../')\n",
    "from video_2_frames import video2frames"
   ],
   "outputs": []
  },
  {
   "cell_type": "code",
   "execution_count": 4,
   "metadata": {},
   "source": [
    "plt.rcParams['figure.figsize']=(80,10)"
   ],
   "outputs": []
  },
  {
   "cell_type": "code",
   "execution_count": 5,
   "metadata": {},
   "source": [
    "with open('../track-stub/twp-tracks-3.pkl','rb') as ll:\n",
    "    tracks=pickle.load(ll)"
   ],
   "outputs": []
  },
  {
   "cell_type": "code",
   "execution_count": 6,
   "metadata": {},
   "source": [
    "with open('frames_1q_5(10fps).pkl', 'rb') as load:\n",
    "    frame_dit=pickle.load(load)"
   ],
   "outputs": []
  },
  {
   "cell_type": "code",
   "execution_count": 7,
   "metadata": {},
   "source": [
    "frames_left=frame_dit['left']\n",
    "frames_right=frame_dit['right']"
   ],
   "outputs": []
  },
  {
   "cell_type": "code",
   "execution_count": 8,
   "metadata": {},
   "source": [
    "track_id_dict={}\n",
    "for frame_num,player_tracks in enumerate(tracks['players']):\n",
    "    for track_id,values in player_tracks.items():\n",
    "        track_id_dict[track_id]={}"
   ],
   "outputs": []
  },
  {
   "cell_type": "code",
   "execution_count": 9,
   "metadata": {},
   "source": [
    "for frame_num,player_tracks in enumerate(tracks['players']):\n",
    "    for track_id,values in player_tracks.items():\n",
    "        if len(values)>40:\n",
    "            values=values[:30]\n",
    "            continue\n",
    "        bbox=values['bbox']\n",
    "        if values['pitch_side']=='left':\n",
    "            track_id_dict[track_id][frame_num]=cv2.cvtColor(frames_left[frame_num][round(bbox[1]):round(bbox[3]),\n",
    "                                                                        round(bbox[0]):round(bbox[2])],\n",
    "                                                                        cv2.COLOR_BGR2RGB)\n",
    "        if values['pitch_side']=='right':\n",
    "            track_id_dict[track_id][frame_num]=cv2.cvtColor(frames_right[frame_num][round(bbox[1]):round(bbox[3]),\n",
    "                                                                        round(bbox[0]):round(bbox[2])],\n",
    "                                                                        cv2.COLOR_BGR2RGB)"
   ],
   "outputs": []
  },
  {
   "cell_type": "code",
   "execution_count": 10,
   "metadata": {},
   "source": [
    "track_id_dict.keys()"
   ],
   "outputs": []
  },
  {
   "cell_type": "code",
   "execution_count": 11,
   "metadata": {},
   "source": [
    "track_id=104\n",
    "fig=plt.figure()\n",
    "ax_list=[fig.add_subplot(1,len(track_id_dict[track_id]),i) for i in range(1,len(track_id_dict[track_id])+1)]\n",
    "frame_nums=list(track_id_dict[track_id].keys())\n",
    "print(track_id)\n",
    "print(frame_nums)\n",
    "for i in range(len(track_id_dict[track_id])):\n",
    "    key=frame_nums[i]\n",
    "    img=track_id_dict[track_id][key]\n",
    "    ax_list[i].imshow(img)\n",
    "    ax_list[i].axis('off')\n",
    "plt.show()"
   ],
   "outputs": []
  },
  {
   "cell_type": "code",
   "execution_count": null,
   "metadata": {},
   "source": [],
   "outputs": []
  }
 ],
 "metadata": {
  "kernelspec": {
   "display_name": "yolo_env",
   "language": "python",
   "name": "python3"
  },
  "language_info": {
   "codemirror_mode": {
    "name": "ipython",
    "version": 3
   },
   "file_extension": ".py",
   "mimetype": "text/x-python",
   "name": "python",
   "nbconvert_exporter": "python",
   "pygments_lexer": "ipython3",
   "version": "3.11.7"
  }
 },
 "nbformat": 4,
 "nbformat_minor": 2
}
