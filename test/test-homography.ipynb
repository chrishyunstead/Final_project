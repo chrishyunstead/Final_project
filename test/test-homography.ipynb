{
 "cells": [
  {
   "cell_type": "code",
   "execution_count": 2,
   "metadata": {},
   "source": [
    "import cv2\n",
    "import numpy as np\n",
    "import matplotlib.pyplot as plt\n",
    "import pickle\n",
    "import json\n",
    "import sys\n",
    "sys.path.append('../')\n",
    "from utils import *"
   ],
   "outputs": []
  },
  {
   "cell_type": "code",
   "execution_count": 198,
   "metadata": {},
   "source": [
    "frames_left=read_video('../input-video/test-left-pitch-1.mp4')\n",
    "frames_right=read_video('../input-video/test-right-pitch-1.mp4')"
   ],
   "outputs": []
  },
  {
   "cell_type": "code",
   "execution_count": 261,
   "metadata": {},
   "source": [
    "nuri_futsal=cv2.imread('img/nuri-futsal.png')"
   ],
   "outputs": []
  },
  {
   "cell_type": "code",
   "execution_count": 321,
   "metadata": {},
   "source": [
    "with open('../track-stub/tracks-left-v8m-test(1q-2m).pkl','rb') as pl:\n",
    "    tracks_left=pickle.load(pl)\n",
    "with open('../track-stub/tracks-right-v8m-test.pkl','rb') as pr:\n",
    "    tracks_right=pickle.load(pr)"
   ],
   "outputs": []
  },
  {
   "cell_type": "code",
   "execution_count": 312,
   "metadata": {},
   "source": [
    "with open('homography_dict.json','r') as load:\n",
    "    test_json=json.load(load)\n",
    "h_left=np.array(test_json['left_homography'])\n",
    "h_right=np.array(test_json['right_homography'])"
   ],
   "outputs": []
  },
  {
   "cell_type": "code",
   "execution_count": 313,
   "metadata": {},
   "source": [
    "for track_id,values in tracks_left['players'][0].items():\n",
    "    coord_tr=cv2.perspectiveTransform(np.array([np.float32([values['coord_frame']])]),np.float32(h_left))\n",
    "    coord_tr=[int(i) for i in coord_tr.tolist()[0][0]]\n",
    "    values['coord_tr']=coord_tr\n",
    "    \n",
    "for track_id,values in tracks_right['players'][0].items():\n",
    "    coord_tr=cv2.perspectiveTransform(np.array([np.float32([values['coord_frame']])]),np.float32(h_right))\n",
    "    coord_tr=[int(i) for i in coord_tr.tolist()[0][0]]\n",
    "    values['coord_tr']=coord_tr"
   ],
   "outputs": []
  },
  {
   "cell_type": "code",
   "execution_count": 307,
   "metadata": {},
   "source": [
    "frame_homography_left=cv2.warpPerspective(\n",
    "    frames_left[0].copy(),\n",
    "    h_left,\n",
    "    (800,400))\n",
    "frame_homography_right=cv2.warpPerspective(\n",
    "    frames_right[0].copy(),\n",
    "    h_right,\n",
    "    (800,400))\n",
    "frame1_concat=np.concatenate((frame_homography_left[:,:401],frame_homography_right[:,400:]),axis=1)"
   ],
   "outputs": []
  },
  {
   "cell_type": "code",
   "execution_count": 317,
   "metadata": {},
   "source": [
    "nuri_futsal_copy=nuri_futsal.copy()\n",
    "for track_id,values in tracks_left['players'][0].items():\n",
    "    if values['coord_tr'] and values['coord_tr'][0]<401:\n",
    "        cv2.circle(nuri_futsal_copy,\n",
    "                values['coord_tr'],\n",
    "                20,\n",
    "                values['team_color'],\n",
    "                cv2.FILLED)\n",
    "        cv2.putText(nuri_futsal_copy,\n",
    "                    f'{track_id}',\n",
    "                    [values['coord_tr'][0]-8,values['coord_tr'][1]+8],\n",
    "                    cv2.FONT_HERSHEY_SIMPLEX,\n",
    "                    .8,(0,0,0),2)\n",
    "    else: pass\n",
    "for track_id,values in tracks_right['players'][0].items():\n",
    "    if values['coord_tr'] and values['coord_tr'][0]>400:\n",
    "        cv2.circle(nuri_futsal_copy,\n",
    "                values['coord_tr'],\n",
    "                20,\n",
    "                values['team_color'],\n",
    "                cv2.FILLED)\n",
    "        cv2.putText(nuri_futsal_copy,\n",
    "                    f'{track_id}',\n",
    "                    [values['coord_tr'][0]-8,values['coord_tr'][1]+8],\n",
    "                    cv2.FONT_HERSHEY_SIMPLEX,\n",
    "                    .8,(0,0,0),2)\n",
    "    else: pass\n",
    "figure=plt.figure()\n",
    "ax1=figure.add_subplot(2,1,1)\n",
    "ax1.axis('off')\n",
    "ax2=figure.add_subplot(2,1,2)\n",
    "ax2.axis('off')\n",
    "ax1.imshow(cv2.cvtColor(frame1_concat,cv2.COLOR_BGR2RGB))\n",
    "ax2.imshow(cv2.cvtColor(nuri_futsal_copy,cv2.COLOR_BGR2RGB))\n",
    "plt.show()"
   ],
   "outputs": []
  },
  {
   "cell_type": "code",
   "execution_count": 332,
   "metadata": {},
   "source": [
    "test_concat=np.concatenate((cv2.cvtColor(frame1_concat,cv2.COLOR_BGR2RGB),\n",
    "                            cv2.cvtColor(nuri_futsal_copy[:400,:801],cv2.COLOR_BGR2RGB)))\n",
    "plt.imshow(test_concat)\n",
    "plt.axis('off')\n",
    "plt.show()"
   ],
   "outputs": []
  },
  {
   "cell_type": "code",
   "execution_count": 324,
   "metadata": {},
   "source": [
    "frame1_concat.shape,nuri_futsal_copy.shape"
   ],
   "outputs": []
  },
  {
   "cell_type": "code",
   "execution_count": 228,
   "metadata": {},
   "source": [
    "frame1_left_copy=frames_left[0].copy()\n",
    "for track_id,values in tracks_left['players'][0].items():\n",
    "    cv2.circle(frame1_left_copy,\n",
    "               values['coord_frame'],\n",
    "               30,\n",
    "               values['team_color'],\n",
    "               cv2.FILLED)\n",
    "    cv2.putText(frame1_left_copy,\n",
    "                f'{track_id}',\n",
    "                [values['coord_frame'][0]-10,values['coord_frame'][1]+10],\n",
    "                cv2.FONT_HERSHEY_SIMPLEX,\n",
    "                1,\n",
    "                (0,0,0),\n",
    "                5)\n",
    "plt.imshow(cv2.cvtColor(frame1_left_copy,cv2.COLOR_BGR2RGB))"
   ],
   "outputs": []
  },
  {
   "cell_type": "code",
   "execution_count": 9,
   "metadata": {},
   "source": [
    "left_frame1=cv2.imread('img/frame-1-left.png')\n",
    "right_frame1=cv2.imread('img/frame-1-right.png')\n"
   ],
   "outputs": []
  },
  {
   "cell_type": "code",
   "execution_count": 3,
   "metadata": {},
   "source": [
    "nuri_futsal=cv2.imread('img/nuri-futsal.png')"
   ],
   "outputs": []
  },
  {
   "cell_type": "code",
   "execution_count": 5,
   "metadata": {},
   "source": [
    "nuri_futsal.shape[1]"
   ],
   "outputs": []
  },
  {
   "cell_type": "code",
   "execution_count": 6,
   "metadata": {},
   "source": [
    "keypoint_left_frame={'BCC':[924,593],'TCC':[1114,515],'BLPA-1':[363,232],'TLPA-1':[669,227],'BLC':[120,184],'TLC':[710,193]}\n",
    "keypoint_right_frame={'BCC':[337,558],'TCC':[115,503],'BC':[960,708],'BRC':[1003,258],'BRPA-2':[840,255],'TRPA-2':[583,247],'TRC':[480,242],'TRPA-1':[523,271]}\n",
    "keypoint_true={'BCC':[400,260],'TCC':[400,140],'BLPA-1':[80,280],'TLPA-1':[80,120],'BLC':[0,400],'TLC':[0,0],'BC':[400,400],\n",
    "               'BRC':[800,400],'BRPA-2':[800,280],'TRPA-2':[800,120],'TRC':[800,0],'TRPA-1':[720,120]}"
   ],
   "outputs": []
  },
  {
   "cell_type": "code",
   "execution_count": 10,
   "metadata": {},
   "source": [
    "frame_copy=cv2.cvtColor(left_frame1.copy(),cv2.COLOR_BGR2RGB)\n",
    "keypoint_lf_array=[]\n",
    "keypoint_tr_array=[]\n",
    "for kp_name,kp_coord in keypoint_left_frame.items():\n",
    "    keypoint_lf_array.append(kp_coord)\n",
    "    keypoint_tr_array.append(keypoint_true[kp_name])\n",
    "h_left,status=cv2.findHomography(np.array(keypoint_lf_array),np.array(keypoint_tr_array))\n",
    "frame_homography_left=cv2.warpPerspective(\n",
    "    frame_copy,\n",
    "    h_left,\n",
    "    (nuri_futsal.shape[1],nuri_futsal.shape[0]))\n",
    "plt.imshow(frame_homography_left)"
   ],
   "outputs": []
  },
  {
   "cell_type": "code",
   "execution_count": 11,
   "metadata": {},
   "source": [
    "frame_copy=cv2.cvtColor(right_frame1.copy(),cv2.COLOR_BGR2RGB)\n",
    "keypoint_rt_array=[]\n",
    "keypoint_tr_array=[]\n",
    "for kp_name,kp_coord in keypoint_right_frame.items():\n",
    "    keypoint_rt_array.append(kp_coord)\n",
    "    keypoint_tr_array.append(keypoint_true[kp_name])\n",
    "h_right,status=cv2.findHomography(np.array(keypoint_rt_array),np.array(keypoint_tr_array))\n",
    "frame_homography_right=cv2.warpPerspective(\n",
    "    frame_copy,\n",
    "    h_right,\n",
    "    (800,400))\n",
    "plt.imshow(frame_homography_right)"
   ],
   "outputs": []
  },
  {
   "cell_type": "code",
   "execution_count": 189,
   "metadata": {},
   "source": [
    "plt.imshow(np.concatenate((frame_homography_left[:,:401],frame_homography_right[:,400:]),axis=1))"
   ],
   "outputs": []
  },
  {
   "cell_type": "code",
   "execution_count": 181,
   "metadata": {},
   "source": [
    "plt.imshow(frame_homography_left[:,:401])"
   ],
   "outputs": []
  },
  {
   "cell_type": "code",
   "execution_count": 13,
   "metadata": {},
   "source": [
    "homography_dict={'left_homography':h_left.tolist(),'right_homography':h_right.tolist()}"
   ],
   "outputs": []
  },
  {
   "cell_type": "code",
   "execution_count": 14,
   "metadata": {},
   "source": [
    "import json\n",
    "with open('homography_dict.json','w') as save:\n",
    "    json.dump(homography_dict,save)"
   ],
   "outputs": []
  },
  {
   "cell_type": "code",
   "execution_count": 171,
   "metadata": {},
   "source": [
    "with open('homography_dict.json','r') as load:\n",
    "    test_json=json.load(load)"
   ],
   "outputs": []
  },
  {
   "cell_type": "code",
   "execution_count": 173,
   "metadata": {},
   "source": [
    "np.array(test_json['right_homography'])"
   ],
   "outputs": []
  }
 ],
 "metadata": {
  "kernelspec": {
   "display_name": "yolo_env",
   "language": "python",
   "name": "python3"
  },
  "language_info": {
   "codemirror_mode": {
    "name": "ipython",
    "version": 3
   },
   "file_extension": ".py",
   "mimetype": "text/x-python",
   "name": "python",
   "nbconvert_exporter": "python",
   "pygments_lexer": "ipython3",
   "version": "3.11.7"
  }
 },
 "nbformat": 4,
 "nbformat_minor": 2
}
