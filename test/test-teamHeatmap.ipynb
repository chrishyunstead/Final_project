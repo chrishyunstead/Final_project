{
 "cells": [
  {
   "cell_type": "code",
   "execution_count": 1,
   "metadata": {},
   "source": [
    "# 라이브러리\n",
    "import pickle\n",
    "import pandas as pd\n",
    "import numpy as np\n",
    "import matplotlib.pyplot as plt\n",
    "import seaborn as sns\n",
    "from sklearn.preprocessing import MinMaxScaler\n",
    "from mplsoccer import Pitch"
   ],
   "outputs": []
  },
  {
   "cell_type": "code",
   "execution_count": 2,
   "metadata": {},
   "source": [
    "nuri_pitch=plt.imread('img/nuri-futsal.png')"
   ],
   "outputs": []
  },
  {
   "cell_type": "code",
   "execution_count": 8,
   "metadata": {},
   "source": [
    "player_df=pd.read_csv('../df/heatmap/testMatch-heatmap-df.csv',index_col=0)"
   ],
   "outputs": []
  },
  {
   "cell_type": "code",
   "execution_count": 16,
   "metadata": {},
   "source": [
    "player_df"
   ],
   "outputs": []
  },
  {
   "cell_type": "code",
   "execution_count": 10,
   "metadata": {},
   "source": [
    "team_split = {'Team-A':player_df[player_df['team'] == 0],\n",
    "                      'Team-B':player_df[player_df['team'] == 1]}"
   ],
   "outputs": []
  },
  {
   "cell_type": "code",
   "execution_count": 37,
   "metadata": {},
   "source": [
    "['left-pa' if 60<80]"
   ],
   "outputs": []
  },
  {
   "cell_type": "code",
   "execution_count": 38,
   "metadata": {},
   "source": [
    "# 그래프 그리기\n",
    "fig, ax = plt.subplots()\n",
    "sns.kdeplot(x=team_split['Team-A'].query(\"player_id!='KYS'\")['coord_x'],\n",
    "            y=team_split['Team-A'].query(\"player_id!='KYS'\")['coord_y'],\n",
    "            fill=True,\n",
    "            thresh=0,\n",
    "            levels=10,\n",
    "            cmap=\"Blues\",\n",
    "            alpha=0.8,\n",
    "            ax=ax)  # your_data는 분포를 시각화할 데이터입니다.\n",
    "\n",
    "# 이미지 배경에 그래프 추가\n",
    "ax.imshow(nuri_pitch, extent=[2.5, 802.5, 2.5, 402.5])\n",
    "plt.gca().invert_yaxis()\n",
    "plt.axis('off')\n",
    "plt.show()"
   ],
   "outputs": []
  },
  {
   "cell_type": "code",
   "execution_count": 2,
   "metadata": {},
   "source": [
    "import matplotlib.pyplot as plt"
   ],
   "outputs": []
  },
  {
   "cell_type": "code",
   "execution_count": 32,
   "metadata": {},
   "source": [
    "img=plt.imread('../viz/heatmap-team/testMatch-heatmap-team-a.png')"
   ],
   "outputs": []
  },
  {
   "cell_type": "code",
   "execution_count": 33,
   "metadata": {},
   "source": [
    "img.shape"
   ],
   "outputs": []
  },
  {
   "cell_type": "code",
   "execution_count": 34,
   "metadata": {},
   "source": [
    "plt.imshow(img)\n",
    "plt.axis('off')\n",
    "plt.show()"
   ],
   "outputs": []
  },
  {
   "cell_type": "code",
   "execution_count": 5,
   "metadata": {},
   "source": [
    "plt.imshow(nuri_pitch)\n",
    "plt.axis('off')\n",
    "plt.show()"
   ],
   "outputs": []
  }
 ],
 "metadata": {
  "kernelspec": {
   "display_name": "yolo_env",
   "language": "python",
   "name": "python3"
  },
  "language_info": {
   "codemirror_mode": {
    "name": "ipython",
    "version": 3
   },
   "file_extension": ".py",
   "mimetype": "text/x-python",
   "name": "python",
   "nbconvert_exporter": "python",
   "pygments_lexer": "ipython3",
   "version": "3.11.7"
  }
 },
 "nbformat": 4,
 "nbformat_minor": 2
}
