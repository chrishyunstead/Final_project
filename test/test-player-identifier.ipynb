{
 "cells": [
  {
   "cell_type": "code",
   "execution_count": 23,
   "metadata": {},
   "source": [
    "import cv2\n",
    "import matplotlib.pyplot as plt\n",
    "import pickle\n",
    "import json\n",
    "import numpy as np\n",
    "import sys\n",
    "sys.path.append('../')\n",
    "from utils import *"
   ],
   "outputs": []
  },
  {
   "cell_type": "code",
   "execution_count": 70,
   "metadata": {},
   "source": [
    "with open('../track-stub/tracks-left-v8m-5(TA).pkl','rb') as ll:\n",
    "    tracks_left=pickle.load(ll)\n",
    "frames_left=read_video('../input-video/test-left-pitch.mp4')"
   ],
   "outputs": []
  },
  {
   "cell_type": "code",
   "execution_count": 71,
   "metadata": {},
   "source": [
    "len(frames_left),len(tracks_left['players'])"
   ],
   "outputs": []
  },
  {
   "cell_type": "code",
   "execution_count": 72,
   "metadata": {},
   "source": [
    "dict_test={}\n",
    "for frame_num,player_tracks in enumerate(tracks_left['players']):\n",
    "    frame=frames_left[frame_num]\n",
    "    for track_id,values in player_tracks.items():\n",
    "        if str(track_id) in dict_test:\n",
    "            pass\n",
    "        else:\n",
    "            bbox=values['bbox']\n",
    "            player_pic=cv2.cvtColor(frame[int(bbox[1]):int(bbox[3]),int(bbox[0]):int(bbox[2])],\n",
    "                                    cv2.COLOR_BGR2RGB)\n",
    "            dict_test[str(track_id)]={'pic':player_pic.tolist(),'shape':player_pic.shape,'frame_num':frame_num}"
   ],
   "outputs": []
  },
  {
   "cell_type": "code",
   "execution_count": 73,
   "metadata": {},
   "source": [
    "with open('player_pic.json','w') as save:\n",
    "    json.dump(dict_test,save)"
   ],
   "outputs": []
  },
  {
   "cell_type": "code",
   "execution_count": 74,
   "metadata": {},
   "source": [
    "with open('player_pic.json','r') as read:\n",
    "    test_json=json.load(read)"
   ],
   "outputs": []
  },
  {
   "cell_type": "code",
   "execution_count": 79,
   "metadata": {},
   "source": [
    "a=[{},{1},{3}];b=[{},{},{6}]\n",
    "for i,j in zip(a,b):\n",
    "    if len(i)==0 and len(j)==0:\n",
    "        print({})\n",
    "    elif len(i)==0 and len(j)!=0:\n",
    "        print(j)\n",
    "    elif len(i)!=0 and len(j)==0:\n",
    "        print(i)\n",
    "    else:\n",
    "        print(j)\n"
   ],
   "outputs": []
  },
  {
   "cell_type": "code",
   "execution_count": 77,
   "metadata": {},
   "source": [
    "for player_id,values in test_json.items():\n",
    "    print(f\"----------------\\nframe_num : {values['frame_num']}\")\n",
    "    print(f\"track-id : {player_id}\")\n",
    "    plt.imshow(values['pic'])\n",
    "    plt.show()"
   ],
   "outputs": []
  },
  {
   "cell_type": "code",
   "execution_count": 28,
   "metadata": {},
   "source": [
    "test_json.keys()"
   ],
   "outputs": []
  },
  {
   "cell_type": "code",
   "execution_count": 47,
   "metadata": {},
   "source": [
    "aaa=np.array(test_json['27']).reshape(player_pic.shape)\n",
    "plt.imshow(cv2.cvtColor(aaa,cv2.COLOR_BGR2RGB))"
   ],
   "outputs": []
  },
  {
   "cell_type": "code",
   "execution_count": 9,
   "metadata": {},
   "source": [
    "for trid,pic"
   ],
   "outputs": []
  }
 ],
 "metadata": {
  "kernelspec": {
   "display_name": "yolo_env",
   "language": "python",
   "name": "python3"
  },
  "language_info": {
   "codemirror_mode": {
    "name": "ipython",
    "version": 3
   },
   "file_extension": ".py",
   "mimetype": "text/x-python",
   "name": "python",
   "nbconvert_exporter": "python",
   "pygments_lexer": "ipython3",
   "version": "3.11.7"
  }
 },
 "nbformat": 4,
 "nbformat_minor": 2
}
